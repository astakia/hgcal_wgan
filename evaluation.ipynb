{
 "cells": [
  {
   "cell_type": "code",
   "execution_count": 1,
   "metadata": {},
   "outputs": [
    {
     "name": "stdout",
     "output_type": "stream",
     "text": [
      "setGPU: Setting GPU to: 0\n"
     ]
    },
    {
     "name": "stderr",
     "output_type": "stream",
     "text": [
      "/usr/local/lib/python3.5/dist-packages/h5py/__init__.py:34: FutureWarning: Conversion of the second argument of issubdtype from `float` to `np.floating` is deprecated. In future, it will be treated as `np.float64 == np.dtype(float).type`.\n",
      "  from ._conv import register_converters as _register_converters\n"
     ]
    }
   ],
   "source": [
    "%matplotlib inline\n",
    "\n",
    "import setGPU\n",
    "\n",
    "import os, h5py\n",
    "import numpy as np\n",
    "import matplotlib\n",
    "import matplotlib.pyplot as plt\n",
    "import matplotlib.cm as cm\n",
    "from matplotlib.colors import LogNorm, Normalize\n",
    "\n",
    "import glob"
   ]
  },
  {
   "cell_type": "code",
   "execution_count": 6,
   "metadata": {},
   "outputs": [],
   "source": [
    "gen_model = '/nfshome/vitoriabp/hgcal_wgan/trial6/weights/generator_modeltrial6_bs_64_lr_0.002.json'\n",
    "\n",
    "#gen_weights = '/nfshome/vitoriabp/hgcal_wgan/trial6/weights/generator_weights_epoch_200_trial6_bs_64_lr_0.002.h5'"
   ]
  },
  {
   "cell_type": "code",
   "execution_count": 2,
   "metadata": {},
   "outputs": [],
   "source": [
    "#gen_weights = '/nfshome/vitoriabp/Keras-GAN/wgan/trial3_batch_size_128_epochs_2000/weights/generator_weights_epoch_1000_trial3_bs_128.h5'\n",
    "\n",
    "#gen_model = '/nfshome/vitoriabp/Keras-GAN/wgan/trial3_batch_size_128_epochs_2000/weights/generator_modeltrial3_bs_128.json'"
   ]
  },
  {
   "cell_type": "code",
   "execution_count": 2,
   "metadata": {},
   "outputs": [],
   "source": [
    "def loadModel(name, weights=False):\n",
    "    '''\n",
    "    Adapted from Kaustuv Datta and Jayesh Mahapatra's CaloImageMacros.\n",
    "    Loads models from json file.\n",
    "    :parameter name: name of the json file.\n",
    "    :type name: str\n",
    "    :parameter weights: whether or not to load the weights.\n",
    "    :type weights: bool\n",
    "    :return: loaded model.\n",
    "    '''\n",
    "    from keras.models import model_from_json\n",
    "    json_file = open('%s' % name, 'r')\n",
    "    loaded = json_file.read()\n",
    "    json_file.close()\n",
    "\n",
    "    model = model_from_json(loaded)\n",
    "\n",
    "    # load weights into new model\n",
    "    if weights == True:\n",
    "        model.load_weights('%s.h5' % name)\n",
    "    # print(model.summary())\n",
    "\n",
    "    #print(\"Loaded model from disk\")\n",
    "    return model"
   ]
  },
  {
   "cell_type": "code",
   "execution_count": 3,
   "metadata": {},
   "outputs": [],
   "source": [
    "latent_space=100\n",
    "batch_size=128\n",
    "\n",
    "noise = np.random.normal(0, 1, (batch_size, latent_space))"
   ]
  },
  {
   "cell_type": "code",
   "execution_count": 7,
   "metadata": {},
   "outputs": [],
   "source": [
    "all_g_weight = '/nfshome/vitoriabp/hgcal_wgan/trial5/weights/generator_weights_epoch_*.h5'\n",
    "#gen_model = '/nfshome/vitoriabp/hgcal_wgan/trial5/weights/generator_modeltrial5_bs_32_lr_0.005.json'\n",
    "g = loadModel(gen_model)\n",
    "\n",
    "means = []\n",
    "stds = []\n",
    "epochs = []\n",
    "\n",
    "for w in glob.glob(all_g_weight):\n",
    "    #g = loadModel(gen_model)\n",
    "    epoch = w.split('/')[-1].split('_')[3]\n",
    "    \n",
    "    g.load_weights(w)\n",
    "    generated_images = g.predict(noise)\n",
    "    generated_images = generated_images.squeeze()\n",
    "    \n",
    "    means.append(np.mean(generated_images))\n",
    "    stds.append(np.std(generated_images))\n",
    "    epochs.append(int(epoch))"
   ]
  },
  {
   "cell_type": "code",
   "execution_count": 8,
   "metadata": {},
   "outputs": [],
   "source": [
    "epoch_mean = np.array([np.asarray(epochs), np.asarray(means)])\n",
    "\n",
    "epoch_mean_sorted = (epoch_mean.T)[np.argsort(epoch_mean[0])]"
   ]
  },
  {
   "cell_type": "code",
   "execution_count": 9,
   "metadata": {},
   "outputs": [],
   "source": [
    "errors = []\n",
    "for std in stds:\n",
    "    error = std/np.sqrt(len(means))\n",
    "    #print(error)\n",
    "    errors.append(error)"
   ]
  },
  {
   "cell_type": "code",
   "execution_count": 20,
   "metadata": {},
   "outputs": [],
   "source": [
    "def plotMean(epoch_mean_sorted):\n",
    "    plt.scatter(epoch_mean_sorted[:,0], epoch_mean_sorted[:,1])\n",
    "    plt.title(\"Mean energy generated\", size=16)\n",
    "    plt.xlabel(\"Epoch\", size=16)\n",
    "    plt.ylabel(\"$\\mu$ (GeV)\", size=16)\n",
    "    #plt.savefig(\"means.png\")\n",
    "    plt.errorbar(epoch_mean_sorted[:,0], epoch_mean_sorted[:,1], yerr=np.std(means)/np.sqrt(len(means)), color='grey', alpha = 0.5, fmt='o')"
   ]
  },
  {
   "cell_type": "code",
   "execution_count": 21,
   "metadata": {},
   "outputs": [
    {
     "data": {
      "image/png": "[encoded data removed]",
      "text/plain": [
       "<matplotlib.figure.Figure at 0x7fa9ee67b198>"
      ]
     },
     "metadata": {},
     "output_type": "display_data"
    }
   ],
   "source": [
    "plotMean(epoch_mean_sorted)"
   ]
  },
  {
   "cell_type": "code",
   "execution_count": 178,
   "metadata": {},
   "outputs": [
    {
     "data": {
      "text/plain": [
       "0.02276984"
      ]
     },
     "execution_count": 178,
     "metadata": {},
     "output_type": "execute_result"
    }
   ],
   "source": [
    "## Should aim for:\n",
    "np.mean(X)"
   ]
  },
  {
   "cell_type": "code",
   "execution_count": 18,
   "metadata": {},
   "outputs": [],
   "source": [
    "def plotStd(epochs, stds):\n",
    "    plt.scatter(epochs, stds)\n",
    "    plt.title(\"Standard deviation of energy generated\", size=16)\n",
    "    plt.xlabel(\"Epoch\", size=16)\n",
    "    plt.ylabel(\"$\\sigma$ (GeV)\", size=16)\n",
    "    #plt.savefig(\"stds.png\")"
   ]
  },
  {
   "cell_type": "code",
   "execution_count": 19,
   "metadata": {},
   "outputs": [
    {
     "data": {
      "image/png": "[encoded data removed]",
      "text/plain": [
       "<matplotlib.figure.Figure at 0x7fa9ee8015f8>"
      ]
     },
     "metadata": {},
     "output_type": "display_data"
    }
   ],
   "source": [
    "plotStd(epochs, stds)"
   ]
  },
  {
   "cell_type": "code",
   "execution_count": 91,
   "metadata": {},
   "outputs": [
    {
     "data": {
      "text/plain": [
       "0.3552384"
      ]
     },
     "execution_count": 91,
     "metadata": {},
     "output_type": "execute_result"
    }
   ],
   "source": [
    "## Aim for:\n",
    "np.std(X)"
   ]
  },
  {
   "cell_type": "code",
   "execution_count": 10,
   "metadata": {},
   "outputs": [],
   "source": [
    "f = h5py.File('/bigdata/shared/HGCAL_data/new/all_noPU.h5', 'r')\n",
    "X = np.asarray(f['X'])\n",
    "X = X.squeeze()"
   ]
  },
  {
   "cell_type": "code",
   "execution_count": 6,
   "metadata": {},
   "outputs": [],
   "source": [
    "#true_energy = np.asarray(f['y']['b'])\n",
    "\n",
    "#true_energy.shape\n",
    "\n",
    "# import os, sys\n",
    "# if __package__ is None:\n",
    "#     sys.path.append(os.path.realpath(\"/data/shared/Software/CMS_Deep_Learning\"))\n",
    "\n",
    "# from CMS_Deep_Learning.postprocessing.metrics import distribute_to_bins\n",
    "\n",
    "#out, x, y = distribute_to_bins(true_energy, [true_energy, np.sum(X, axis=(1,2,3))], nb_bins=10, equalBins=True)"
   ]
  }
 ],
 "metadata": {
  "kernelspec": {
   "display_name": "Python 3",
   "language": "python",
   "name": "python3"
  },
  "language_info": {
   "codemirror_mode": {
    "name": "ipython",
    "version": 3
   },
   "file_extension": ".py",
   "mimetype": "text/x-python",
   "name": "python",
   "nbconvert_exporter": "python",
   "pygments_lexer": "ipython3",
   "version": "3.5.2"
  }
 },
 "nbformat": 4,
 "nbformat_minor": 2
}
